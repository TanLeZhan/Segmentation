{
 "cells": [
  {
   "cell_type": "code",
   "execution_count": 1,
   "id": "ed0b970c",
   "metadata": {},
   "outputs": [],
   "source": [
    "import geopandas as gpd\n",
    "\n",
    "gdf = gpd.read_file(\"geojson/ACM_building.geojson\") #coords in EPSG:4326 (long/lat)\n",
    "gdf_proj = gdf.to_crs(epsg=3857) #convert geodataframe coord from long/lat to meters"
   ]
  },
  {
   "cell_type": "code",
   "execution_count": 61,
   "id": "283a24d8",
   "metadata": {},
   "outputs": [],
   "source": [
    "ACM = gdf_proj.geometry \n",
    "\n",
    "ACM_edited = ACM.simplify_coverage(2.9)  # 100 meters tolerance\n"
   ]
  },
  {
   "cell_type": "code",
   "execution_count": 62,
   "id": "216bf183",
   "metadata": {},
   "outputs": [
    {
     "name": "stdout",
     "output_type": "stream",
     "text": [
      "EPSG:3857\n",
      "EPSG:4326\n"
     ]
    }
   ],
   "source": [
    "print(ACM_edited.crs)\n",
    "ACM_edited_4326 = ACM_edited.to_crs(\"EPSG:4326\")\n",
    "print(ACM_edited_4326.crs)"
   ]
  },
  {
   "cell_type": "code",
   "execution_count": 63,
   "id": "a1013958",
   "metadata": {},
   "outputs": [
    {
     "name": "stdout",
     "output_type": "stream",
     "text": [
      "Before simplification:\n",
      " 0    105\n",
      "Name: geometry, dtype: int64\n",
      "\n",
      "After simplification:\n",
      " 0    52\n",
      "dtype: int64\n"
     ]
    }
   ],
   "source": [
    "def pt(v):\n",
    "    print(type(v))\n",
    "    \n",
    "def count_coords(geom):\n",
    "    if geom.geom_type == 'Polygon':\n",
    "        return len(geom.exterior.coords)\n",
    "    elif geom.geom_type == 'MultiPolygon':\n",
    "        return sum(len(poly.exterior.coords) for poly in geom.geoms)\n",
    "    else:\n",
    "        return None\n",
    "\n",
    "num_points_before = ACM.apply(count_coords)\n",
    "num_points_after  = ACM_edited.apply(count_coords)\n",
    "\n",
    "print(\"Before simplification:\\n\", num_points_before)\n",
    "print(\"\\nAfter simplification:\\n\", num_points_after)"
   ]
  },
  {
   "cell_type": "code",
   "execution_count": 64,
   "id": "b0e72daf",
   "metadata": {},
   "outputs": [],
   "source": [
    "gdf = gpd.GeoDataFrame(geometry=ACM_edited_4326)\n",
    "gdf.to_file(\"output.geojson\", driver=\"GeoJSON\")"
   ]
  },
  {
   "cell_type": "code",
   "execution_count": 71,
   "id": "45956092",
   "metadata": {},
   "outputs": [],
   "source": [
    "import geopandas as gpd\n",
    "from shapely.geometry import Polygon, MultiPolygon, LinearRing\n",
    "\n",
    "# ----- Step 1: Load your GeoJSON -----\n",
    "gdf = gpd.read_file(\"geojson/ACM_building.geojson\")\n",
    "\n",
    "geom_series = gdf.geometry\n",
    "\n",
    "# ----- Step 2: Chaikin smoothing function -----\n",
    "def chaikin_smooth(coords, iterations=2):\n",
    "    \"\"\"\n",
    "    coords: list of (x, y) tuples\n",
    "    iterations: number of smoothing passes\n",
    "    Returns new list of smoothed coordinates\n",
    "    \"\"\"\n",
    "    for _ in range(iterations):\n",
    "        new_coords = []\n",
    "        for i in range(len(coords)-1):\n",
    "            p0, p1 = coords[i], coords[i+1]\n",
    "            Q = (0.75*p0[0] + 0.25*p1[0], 0.75*p0[1] + 0.25*p1[1])\n",
    "            R = (0.25*p0[0] + 0.75*p1[0], 0.25*p0[1] + 0.75*p1[1])\n",
    "            new_coords += [Q, R]\n",
    "        # Close the ring\n",
    "        new_coords.append(new_coords[0])\n",
    "        coords = new_coords\n",
    "    return coords\n",
    "\n",
    "# ----- Step 3: Apply smoothing to each geometry -----\n",
    "def smooth_polygon(geom, iterations=2, simplify_tol=None):\n",
    "    if geom.geom_type == 'Polygon':\n",
    "        # Simplify first (optional)\n",
    "        if simplify_tol:\n",
    "            geom = geom.simplify(simplify_tol, preserve_topology=True)\n",
    "        # Apply Chaikin smoothing to exterior\n",
    "        new_exterior = LinearRing(chaikin_smooth(list(geom.exterior.coords), iterations))\n",
    "        # Smooth interiors (holes) if any\n",
    "        new_interiors = [LinearRing(chaikin_smooth(list(ring.coords), iterations)) for ring in geom.interiors]\n",
    "        return Polygon(new_exterior, new_interiors)\n",
    "    elif geom.geom_type == 'MultiPolygon':\n",
    "        return MultiPolygon([smooth_polygon(p, iterations, simplify_tol) for p in geom.geoms])\n",
    "    else:\n",
    "        return geom\n",
    "\n",
    "# Example: 2 Chaikin iterations, optional 3-meter simplification\n",
    "geom_series_proj = geom_series.to_crs(epsg=3857)\n",
    "smoothed_series = geom_series_proj.apply(lambda g: smooth_polygon(g, iterations=1, simplify_tol=3))\n",
    "smoothed_series_4326 = smoothed_series.to_crs(epsg=4326)\n",
    "# ----- Step 4: Save as GeoJSON -----\n",
    "gdf_smoothed = gpd.GeoDataFrame(geometry=smoothed_series_4326, crs=gdf.crs)\n",
    "gdf_smoothed.to_file(\"smoothed_output.geojson\", driver=\"GeoJSON\")\n"
   ]
  },
  {
   "cell_type": "code",
   "execution_count": null,
   "id": "4402c994",
   "metadata": {},
   "outputs": [],
   "source": []
  },
  {
   "cell_type": "code",
   "execution_count": null,
   "id": "b66553c7",
   "metadata": {},
   "outputs": [],
   "source": []
  }
 ],
 "metadata": {
  "kernelspec": {
   "display_name": ".venv",
   "language": "python",
   "name": "python3"
  },
  "language_info": {
   "codemirror_mode": {
    "name": "ipython",
    "version": 3
   },
   "file_extension": ".py",
   "mimetype": "text/x-python",
   "name": "python",
   "nbconvert_exporter": "python",
   "pygments_lexer": "ipython3",
   "version": "3.11.9"
  }
 },
 "nbformat": 4,
 "nbformat_minor": 5
}
