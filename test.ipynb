{
 "cells": [
  {
   "cell_type": "code",
   "execution_count": null,
   "id": "25e15d62",
   "metadata": {},
   "outputs": [],
   "source": [
    "from pyproj import Geod\n",
    "coords = \"103.83054,1.33859,103.83929,1.34346\"\n",
    "g = Geod(ellps=\"WGS84\")\n",
    "\n",
    "# step = 1000  # 1 km tiles\n",
    "lon0, lat0, lon1, lat1 = map(float, coords.split(','))\n",
    "print(lon0, lat0, lon1, lat1)\n",
    "g = Geod(ellps=\"WGS84\")\n",
    "\n",
    "# Compute total ground dimensions\n",
    "_, _, top_width_m = g.inv(lon0, lat0, lon1, lat0)\n",
    "_, _, left_height_m = g.inv(lon0, lat0, lon0, lat1)\n",
    "_, _, bottom_width_m = g.inv(lon0, lat1, lon1, lat1)\n",
    "_, _, right_height_m = g.inv(lon1, lat0, lon1, lat1)\n",
    "\n",
    "print(f\"Top width (m): {top_width_m}\")\n",
    "print(f\"Left height (m): {left_height_m}\")\n",
    "print(f\"Bottom width (m): {bottom_width_m}\")\n",
    "print(f\"Right height (m): {right_height_m}\")\n"
   ]
  }
 ],
 "metadata": {
  "kernelspec": {
   "display_name": ".venv",
   "language": "python",
   "name": "python3"
  },
  "language_info": {
   "name": "python",
   "version": "3.11.9"
  }
 },
 "nbformat": 4,
 "nbformat_minor": 5
}
