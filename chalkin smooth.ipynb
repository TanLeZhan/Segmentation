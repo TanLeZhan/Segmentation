{
 "cells": [
  {
   "cell_type": "code",
   "execution_count": null,
   "id": "3c58de73",
   "metadata": {},
   "outputs": [],
   "source": [
    "import geopandas as gpd\n",
    "from shapely.geometry import Polygon, MultiPolygon, LinearRing\n",
    "\n",
    "# ----- Step 1: Load your GeoJSON -----\n",
    "gdf = gpd.read_file(\"your_file.geojson\")\n",
    "geom_series = gdf.geometry\n",
    "\n",
    "# ----- Step 2: Chaikin smoothing function -----\n",
    "def chaikin_smooth(coords, iterations=2):\n",
    "    \"\"\"\n",
    "    coords: list of (x, y) tuples\n",
    "    iterations: number of smoothing passes\n",
    "    Returns new list of smoothed coordinates\n",
    "    \"\"\"\n",
    "    for _ in range(iterations):\n",
    "        new_coords = []\n",
    "        for i in range(len(coords)-1):\n",
    "            p0, p1 = coords[i], coords[i+1]\n",
    "            Q = (0.75*p0[0] + 0.25*p1[0], 0.75*p0[1] + 0.25*p1[1])\n",
    "            R = (0.25*p0[0] + 0.75*p1[0], 0.25*p0[1] + 0.75*p1[1])\n",
    "            new_coords += [Q, R]\n",
    "        # Close the ring\n",
    "        new_coords.append(new_coords[0])\n",
    "        coords = new_coords\n",
    "    return coords\n",
    "\n",
    "# ----- Step 3: Apply smoothing to each geometry -----\n",
    "def smooth_polygon(geom, iterations=2, simplify_tol=None):\n",
    "    if geom.geom_type == 'Polygon':\n",
    "        # Simplify first (optional)\n",
    "        if simplify_tol:\n",
    "            geom = geom.simplify(simplify_tol, preserve_topology=True)\n",
    "        # Apply Chaikin smoothing to exterior\n",
    "        new_exterior = LinearRing(chaikin_smooth(list(geom.exterior.coords), iterations))\n",
    "        # Smooth interiors (holes) if any\n",
    "        new_interiors = [LinearRing(chaikin_smooth(list(ring.coords), iterations)) for ring in geom.interiors]\n",
    "        return Polygon(new_exterior, new_interiors)\n",
    "    elif geom.geom_type == 'MultiPolygon':\n",
    "        return MultiPolygon([smooth_polygon(p, iterations, simplify_tol) for p in geom.geoms])\n",
    "    else:\n",
    "        return geom\n",
    "\n",
    "# Example: 2 Chaikin iterations, optional 3-meter simplification\n",
    "smoothed_series = geom_series.apply(lambda g: smooth_polygon(g, iterations=2, simplify_tol=3))\n",
    "\n",
    "# ----- Step 4: Save as GeoJSON -----\n",
    "gdf_smoothed = gpd.GeoDataFrame(geometry=smoothed_series, crs=gdf.crs)\n",
    "gdf_smoothed.to_file(\"smoothed_output.geojson\", driver=\"GeoJSON\")\n"
   ]
  }
 ],
 "metadata": {
  "language_info": {
   "name": "python"
  }
 },
 "nbformat": 4,
 "nbformat_minor": 5
}
