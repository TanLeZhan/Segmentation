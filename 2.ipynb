{
 "cells": [
  {
   "cell_type": "code",
   "execution_count": null,
   "id": "161b1b36",
   "metadata": {},
   "outputs": [],
   "source": [
    "input_img = (\"\")"
   ]
  },
  {
   "cell_type": "code",
   "execution_count": 3,
   "id": "92b692c0",
   "metadata": {},
   "outputs": [
    {
     "data": {
      "text/plain": [
       "True"
      ]
     },
     "execution_count": 3,
     "metadata": {},
     "output_type": "execute_result"
    }
   ],
   "source": [
    "import cv2\n",
    "import numpy as np\n",
    "\n",
    "# Load image\n",
    "img = cv2.imread(\"ky.jpg\")  # BGR format in OpenCV\n",
    "\n",
    "# Split channels\n",
    "b, g, r = cv2.split(img)\n",
    "\n",
    "# Define threshold for red detection\n",
    "threshold = 100  # tweak as needed\n",
    "\n",
    "# Create binary mask: 1 if red is strong and green/blue are weak\n",
    "binary_map = np.where((r > threshold) & (g < threshold) & (b < threshold), 1, 0)\n",
    "\n",
    "# Optional: save as image\n",
    "cv2.imwrite(\"ky_binary_map.png\", (binary_map * 255).astype(np.uint8))\n"
   ]
  },
  {
   "cell_type": "code",
   "execution_count": null,
   "id": "d6688afe",
   "metadata": {},
   "outputs": [],
   "source": [
    "import rasterio\n",
    "from rasterio.features import shapes\n",
    "import numpy as np\n",
    "from skimage import measure, morphology\n",
    "from shapely.geometry import shape, mapping\n",
    "import fiona\n",
    "import json\n",
    "\n",
    "# --------------------------\n",
    "# Parameters\n",
    "# --------------------------\n",
    "input_raster = \"ky_binary_map.png\"  # binary or probability raster\n",
    "output_geojson = \"ky_buildings.geojson\"\n",
    "threshold = 0.5                     # if probability raster\n",
    "simplify_tolerance = 2.0            # units in arbitrary coordinate system\n",
    "min_area_pixels = 20                 # remove small noise\n",
    "\n",
    "# --------------------------\n",
    "# Load raster\n",
    "# --------------------------\n",
    "with rasterio.open(input_raster) as src:\n",
    "    raster = src.read(1)\n",
    "\n",
    "# --------------------------\n",
    "# Arbitrary transform\n",
    "# --------------------------\n",
    "# Let's assume top-left corner at (1000, 1000), each pixel = 1 unit\n",
    "from rasterio.transform import from_origin\n",
    "transform = from_origin(1000, 1000, 1, 1)\n",
    "\n",
    "# --------------------------\n",
    "# Threshold if raster is soft probability\n",
    "# --------------------------\n",
    "mask = raster > threshold\n",
    "\n",
    "# --------------------------\n",
    "# Remove small objects (noise)\n",
    "# --------------------------\n",
    "mask = morphology.remove_small_objects(mask.astype(bool), min_size=min_area_pixels)\n",
    "\n",
    "# --------------------------\n",
    "# Label connected components\n",
    "# --------------------------\n",
    "labels = measure.label(mask)\n",
    "\n",
    "# --------------------------\n",
    "# Polygonize each connected component\n",
    "# --------------------------\n",
    "polygons = []\n",
    "for region in measure.regionprops(labels):\n",
    "    coords = region.coords\n",
    "    single_mask = np.zeros_like(mask, dtype=np.uint8)\n",
    "    single_mask[tuple(coords.T)] = 1\n",
    "    for geom, val in shapes(single_mask, mask=single_mask, transform=transform):\n",
    "        if val == 1:\n",
    "            poly = shape(geom)\n",
    "            poly = poly.simplify(simplify_tolerance, preserve_topology=True)\n",
    "            polygons.append(poly)\n",
    "\n",
    "# --------------------------\n",
    "# Remove empty geometries\n",
    "# --------------------------\n",
    "polygons = [poly for poly in polygons if poly.area > 0]\n",
    "\n",
    "# --------------------------\n",
    "# Save to GeoJSON\n",
    "# --------------------------\n",
    "geojson_features = []\n",
    "for idx, poly in enumerate(polygons):\n",
    "    geojson_features.append({\n",
    "        \"type\": \"Feature\",\n",
    "        \"geometry\": mapping(poly),\n",
    "        \"properties\": {\"id\": idx}\n",
    "    })\n",
    "\n",
    "geojson_dict = {\n",
    "    \"type\": \"FeatureCollection\",\n",
    "    \"features\": geojson_features\n",
    "}\n",
    "\n",
    "with open(output_geojson, \"w\") as f:\n",
    "    json.dump(geojson_dict, f)\n",
    "\n",
    "print(f\"Polygonized buildings saved to {output_geojson}\")\n"
   ]
  }
 ],
 "metadata": {
  "kernelspec": {
   "display_name": ".venv",
   "language": "python",
   "name": "python3"
  },
  "language_info": {
   "codemirror_mode": {
    "name": "ipython",
    "version": 3
   },
   "file_extension": ".py",
   "mimetype": "text/x-python",
   "name": "python",
   "nbconvert_exporter": "python",
   "pygments_lexer": "ipython3",
   "version": "3.11.9"
  }
 },
 "nbformat": 4,
 "nbformat_minor": 5
}
