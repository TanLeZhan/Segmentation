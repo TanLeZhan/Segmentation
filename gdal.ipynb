{
 "cells": [
  {
   "cell_type": "code",
   "execution_count": 1,
   "id": "e106c678",
   "metadata": {},
   "outputs": [],
   "source": [
    "from osgeo import gdal"
   ]
  },
  {
   "cell_type": "code",
   "execution_count": null,
   "id": "1ce8d156",
   "metadata": {},
   "outputs": [],
   "source": [
    "gdal.Polygonize"
   ]
  },
  {
   "cell_type": "code",
   "execution_count": null,
   "id": "3e239ce4",
   "metadata": {},
   "outputs": [],
   "source": [
    "from osgeo import gdal, ogr\n",
    "import os\n",
    "\n",
    "def raster_to_polygon(raster_path, output_path, field_name=\"value\"):\n",
    "    # Open the source raster\n",
    "    src_ds = gdal.Open(raster_path)\n",
    "    if src_ds is None:\n",
    "        raise FileNotFoundError(f\"Could not open {raster_path}\")\n",
    "    \n",
    "    # Get the first raster band\n",
    "    band = src_ds.GetRasterBand(1)\n",
    "\n",
    "    # Create output vector dataset (GeoJSON or Shapefile)\n",
    "    driver_name = \"GeoJSON\" if output_path.lower().endswith(\".geojson\") else \"ESRI Shapefile\"\n",
    "    driver = ogr.GetDriverByName(driver_name)\n",
    "    \n",
    "    # Remove output file if it already exists\n",
    "    if os.path.exists(output_path):\n",
    "        driver.DeleteDataSource(output_path)\n",
    "    \n",
    "    # Create new vector data source\n",
    "    out_ds = driver.CreateDataSource(output_path)\n",
    "    srs = None\n",
    "    \n",
    "    # Try to get spatial reference from raster\n",
    "    if src_ds.GetProjection():\n",
    "        srs = ogr.osr.SpatialReference(wkt=src_ds.GetProjection())\n",
    "    \n",
    "    # Create layer\n",
    "    out_layer = out_ds.CreateLayer(\"polygons\", srs=srs)\n",
    "    \n",
    "    # Create a new field in the output for raster values\n",
    "    field_defn = ogr.FieldDefn(field_name, ogr.OFTInteger)\n",
    "    out_layer.CreateField(field_defn)\n",
    "    \n",
    "    # Perform polygonization\n",
    "    gdal.Polygonize(band, None, out_layer, 0, [], callback=None)\n",
    "    \n",
    "    # Cleanup\n",
    "    out_ds = None\n",
    "    src_ds = None\n",
    "    print(f\"✅ Polygonization complete: {output_path}\")\n",
    "\n",
    "if __name__ == \"__main__\":\n",
    "    raster_to_polygon(\"input.tif\", \"output.geojson\")\n"
   ]
  },
  {
   "cell_type": "code",
   "execution_count": 2,
   "id": "86b38a90",
   "metadata": {},
   "outputs": [
    {
     "name": "stdout",
     "output_type": "stream",
     "text": [
      "Polygonization complete\n"
     ]
    },
    {
     "name": "stderr",
     "output_type": "stream",
     "text": [
      "c:\\Users\\tanlezhan\\OneDrive - Singapore University of Technology and Design\\Documents\\GitHub\\Segmentation\\.venv\\Lib\\site-packages\\osgeo\\gdal.py:330: FutureWarning: Neither gdal.UseExceptions() nor gdal.DontUseExceptions() has been explicitly called. In GDAL 4.0, exceptions will be enabled by default.\n",
      "  warnings.warn(\n"
     ]
    }
   ],
   "source": [
    "from osgeo import gdal, ogr\n",
    "import numpy as np\n",
    "\n",
    "# Open JPEG\n",
    "ds = gdal.Open(\"raster.jpg\")\n",
    "band = ds.GetRasterBand(1)  # take the first channel (Red)\n",
    "\n",
    "# Optionally, threshold to create a simple mask\n",
    "arr = band.ReadAsArray()\n",
    "mask = (arr > 128).astype(np.uint8)  # binary mask\n",
    "\n",
    "# Create an in-memory raster from the mask\n",
    "driver = gdal.GetDriverByName(\"MEM\")\n",
    "out_raster = driver.Create(\"\", ds.RasterXSize, ds.RasterYSize, 1, gdal.GDT_Byte)\n",
    "out_raster.GetRasterBand(1).WriteArray(mask)\n",
    "\n",
    "# Polygonize the mask\n",
    "out_driver = ogr.GetDriverByName(\"GeoJSON\")\n",
    "out_ds = out_driver.CreateDataSource(\"output.geojson\")\n",
    "out_layer = out_ds.CreateLayer(\"polygons\")\n",
    "field_defn = ogr.FieldDefn(\"value\", ogr.OFTInteger)\n",
    "out_layer.CreateField(field_defn)\n",
    "\n",
    "gdal.Polygonize(out_raster.GetRasterBand(1), None, out_layer, 0, [], callback=None)\n",
    "\n",
    "out_ds = None\n",
    "ds = None\n",
    "print(\"Polygonization complete\")\n"
   ]
  },
  {
   "cell_type": "code",
   "execution_count": null,
   "id": "e5617681",
   "metadata": {},
   "outputs": [],
   "source": []
  }
 ],
 "metadata": {
  "kernelspec": {
   "display_name": ".venv",
   "language": "python",
   "name": "python3"
  },
  "language_info": {
   "codemirror_mode": {
    "name": "ipython",
    "version": 3
   },
   "file_extension": ".py",
   "mimetype": "text/x-python",
   "name": "python",
   "nbconvert_exporter": "python",
   "pygments_lexer": "ipython3",
   "version": "3.11.9"
  }
 },
 "nbformat": 4,
 "nbformat_minor": 5
}
