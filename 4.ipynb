{
 "cells": [
  {
   "cell_type": "code",
   "execution_count": 1,
   "id": "9df420b9",
   "metadata": {},
   "outputs": [],
   "source": [
    "import os\n",
    "input_name = \"ky2.png\"\n",
    "base_name = os.path.splitext(input_name)[0]\n",
    "\n",
    "building_map_name = f\"{base_name}_building_map.png\" #raster of buildings only\n",
    "input_raster = building_map_name  # binary or probability raster\n",
    "output_geojson = \"f{base_name}.geojson\""
   ]
  },
  {
   "cell_type": "code",
   "execution_count": 3,
   "id": "5ab3590c",
   "metadata": {},
   "outputs": [
    {
     "data": {
      "text/plain": [
       "True"
      ]
     },
     "execution_count": 3,
     "metadata": {},
     "output_type": "execute_result"
    }
   ],
   "source": [
    "import cv2\n",
    "import numpy as np\n",
    "\n",
    "# Load image\n",
    "img = cv2.imread(input_name)  # BGR format in OpenCV\n",
    "\n",
    "# Split channels\n",
    "b, g, r = cv2.split(img)\n",
    "\n",
    "# Define threshold for red detection\n",
    "threshold = 100  # tweak as needed\n",
    "\n",
    "# Create binary mask: 1 if red is strong and green/blue are weak\n",
    "building_map = np.where((r > threshold) & (g < threshold) & (b < threshold), 1, 0)\n",
    "\n",
    "# Optional: save as grayscale image\n",
    "cv2.imwrite(building_map_name, (building_map * 255).astype(np.uint8))"
   ]
  },
  {
   "cell_type": "code",
   "execution_count": 45,
   "id": "8632d39c",
   "metadata": {},
   "outputs": [],
   "source": [
    "import rasterio\n",
    "from rasterio.features import shapes\n",
    "import numpy as np\n",
    "from skimage import measure, morphology\n",
    "from shapely.geometry import shape, mapping\n",
    "import fiona\n",
    "import json\n",
    "\n",
    "input_raster = building_map_name  # binary or probability raster\n",
    "output_geojson = \"ky2_buildings.geojson\"\n",
    "threshold = 0.5                     # if probability raster\n",
    "simplify_tolerance = 2.0            # units in arbitrary coordinate system\n",
    "min_area_pixels = 50\n",
    "\n",
    "\n",
    "import matplotlib.pyplot as plt\n",
    "def visualise(mask, figsize = (18,18)):\n",
    "    plt.figure(figsize = figsize)\n",
    "    plt.imshow(mask, cmap='gray')\n",
    "    # plt.title(\"Cleaned Binary Mask\")\n",
    "    plt.axis('off')  # Hide axes for cleaner look\n",
    "    plt.show()"
   ]
  },
  {
   "cell_type": "code",
   "execution_count": null,
   "id": "d9b6b0ee",
   "metadata": {},
   "outputs": [],
   "source": [
    "# Load raster\n",
    "with rasterio.open(input_raster) as src:\n",
    "    raster = src.read(1)\n",
    "\n",
    "\n",
    "# Threshold if raster is soft probability\n",
    "mask = raster > threshold\n",
    "\n",
    "# Remove small objects (noise)\n",
    "mask = morphology.remove_small_objects(mask.astype(bool), min_size=min_area_pixels)\n",
    "# visualise(mask)\n"
   ]
  },
  {
   "cell_type": "code",
   "execution_count": null,
   "id": "e4a69270",
   "metadata": {},
   "outputs": [],
   "source": []
  },
  {
   "cell_type": "code",
   "execution_count": null,
   "id": "229b17dd",
   "metadata": {},
   "outputs": [],
   "source": []
  }
 ],
 "metadata": {
  "kernelspec": {
   "display_name": ".venv",
   "language": "python",
   "name": "python3"
  },
  "language_info": {
   "codemirror_mode": {
    "name": "ipython",
    "version": 3
   },
   "file_extension": ".py",
   "mimetype": "text/x-python",
   "name": "python",
   "nbconvert_exporter": "python",
   "pygments_lexer": "ipython3",
   "version": "3.11.9"
  }
 },
 "nbformat": 4,
 "nbformat_minor": 5
}
