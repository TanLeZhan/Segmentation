{
 "cells": [
  {
   "cell_type": "markdown",
   "id": "b2d71728",
   "metadata": {},
   "source": [
    "Convert red colours to binary map indicating that its a building"
   ]
  },
  {
   "cell_type": "code",
   "execution_count": null,
   "id": "2930ec8f",
   "metadata": {},
   "outputs": [],
   "source": []
  },
  {
   "cell_type": "code",
   "execution_count": 2,
   "id": "7fecb817",
   "metadata": {},
   "outputs": [
    {
     "data": {
      "text/plain": [
       "True"
      ]
     },
     "execution_count": 2,
     "metadata": {},
     "output_type": "execute_result"
    }
   ],
   "source": [
    "import cv2\n",
    "import numpy as np\n",
    "\n",
    "# Load image\n",
    "img = cv2.imread(\"ky2.png\")  # BGR format in OpenCV\n",
    "\n",
    "# Split channels\n",
    "b, g, r = cv2.split(img)\n",
    "\n",
    "# Define threshold for red detection\n",
    "threshold = 100  # tweak as needed\n",
    "\n",
    "# Create binary mask: 1 if red is strong and green/blue are weak\n",
    "binary_map = np.where((r > threshold) & (g < threshold) & (b < threshold), 1, 0)\n",
    "\n",
    "# Optional: save as image\n",
    "cv2.imwrite(\"ky2_binary_map.png\", (binary_map * 255).astype(np.uint8))\n"
   ]
  },
  {
   "cell_type": "code",
   "execution_count": null,
   "id": "ede54444",
   "metadata": {},
   "outputs": [],
   "source": []
  },
  {
   "cell_type": "markdown",
   "id": "4b1288e0",
   "metadata": {},
   "source": []
  }
 ],
 "metadata": {
  "kernelspec": {
   "display_name": ".venv",
   "language": "python",
   "name": "python3"
  },
  "language_info": {
   "codemirror_mode": {
    "name": "ipython",
    "version": 3
   },
   "file_extension": ".py",
   "mimetype": "text/x-python",
   "name": "python",
   "nbconvert_exporter": "python",
   "pygments_lexer": "ipython3",
   "version": "3.11.9"
  }
 },
 "nbformat": 4,
 "nbformat_minor": 5
}
