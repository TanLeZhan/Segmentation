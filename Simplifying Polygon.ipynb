{
 "cells": [
  {
   "cell_type": "code",
   "execution_count": null,
   "id": "da6523ba",
   "metadata": {},
   "outputs": [],
   "source": [
    "import geopandas as gpd\n",
    "\n",
    "gdf = gpd.read_file(\"geojson/ACM_building.geojson\")"
   ]
  },
  {
   "cell_type": "code",
   "execution_count": null,
   "id": "370d07f1",
   "metadata": {},
   "outputs": [],
   "source": [
    "geoseries = gdf.geometry\n"
   ]
  }
 ],
 "metadata": {
  "kernelspec": {
   "display_name": ".venv",
   "language": "python",
   "name": "python3"
  },
  "language_info": {
   "name": "python",
   "version": "3.11.9"
  }
 },
 "nbformat": 4,
 "nbformat_minor": 5
}
