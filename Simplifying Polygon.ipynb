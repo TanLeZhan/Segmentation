{
 "cells": [
  {
   "cell_type": "code",
   "execution_count": 57,
   "id": "da6523ba",
   "metadata": {},
   "outputs": [
    {
     "name": "stdout",
     "output_type": "stream",
     "text": [
      "0    105\n",
      "Name: geometry, dtype: int64\n",
      "EPSG:4326\n"
     ]
    }
   ],
   "source": [
    "import geopandas as gpd\n",
    "\n",
    "gdf = gpd.read_file(\"geojson/ACM_building.geojson\")\n",
    "num_points = gdf.geometry.apply(lambda geom: len(geom.exterior.coords) if geom.geom_type == 'Polygon'\n",
    "                                else sum(len(poly.exterior.coords) for poly in geom.geoms) if geom.geom_type == 'MultiPolygon'\n",
    "                                else None)\n",
    "print(num_points)\n",
    "print(gdf.crs)"
   ]
  },
  {
   "cell_type": "code",
   "execution_count": 56,
   "id": "370d07f1",
   "metadata": {},
   "outputs": [
    {
     "name": "stdout",
     "output_type": "stream",
     "text": [
      "Before simplification:\n",
      " 0    105\n",
      "Name: geometry, dtype: int64\n",
      "\n",
      "After simplification:\n",
      " 0    4\n",
      "dtype: int64\n"
     ]
    }
   ],
   "source": [
    "import geopandas as gpd\n",
    "\n",
    "# Load\n",
    "gdf = gpd.read_file(\"geojson/ACM_building.geojson\")\n",
    "\n",
    "# Extract GeoSeries\n",
    "ACM = gdf.geometry\n",
    "\n",
    "# Simplify coverage\n",
    "ACM_edited = ACM.simplify_coverage(100)\n",
    "\n",
    "# Function to count coordinates\n",
    "def count_coords(geom):\n",
    "    if geom.geom_type == 'Polygon':\n",
    "        return len(geom.exterior.coords)\n",
    "    elif geom.geom_type == 'MultiPolygon':\n",
    "        return sum(len(poly.exterior.coords) for poly in geom.geoms)\n",
    "    else:\n",
    "        return None\n",
    "\n",
    "# Count before\n",
    "num_points_before = ACM.apply(count_coords)\n",
    "print(\"Before simplification:\\n\", num_points_before)\n",
    "\n",
    "# Count after\n",
    "num_points_after = ACM_edited.apply(count_coords)\n",
    "print(\"\\nAfter simplification:\\n\", num_points_after)\n"
   ]
  },
  {
   "cell_type": "code",
   "execution_count": null,
   "id": "fd0e263b",
   "metadata": {},
   "outputs": [
    {
     "name": "stdout",
     "output_type": "stream",
     "text": [
      "0    105\n",
      "Name: geometry, dtype: int64\n",
      "0    4\n",
      "dtype: int64\n"
     ]
    }
   ],
   "source": [
    "ACM = gdf.geometry\n",
    "ACM_copy = ACM\n",
    "ACM_edited = ACM_copy.simplify_coverage(100)\n",
    "num_points = ACM_copy.geometry.apply(lambda geom: len(geom.exterior.coords) if geom.geom_type == 'Polygon'\n",
    "                                else sum(len(poly.exterior.coords) for poly in geom.geoms) if geom.geom_type == 'MultiPolygon'\n",
    "                                else None)\n",
    "print(num_points)\n",
    "num_points = ACM_edited.geometry.apply(lambda geom: len(geom.exterior.coords) if geom.geom_type == 'Polygon'\n",
    "                                else sum(len(poly.exterior.coords) for poly in geom.geoms) if geom.geom_type == 'MultiPolygon'\n",
    "                                else None)\n",
    "\n",
    "print(num_points)"
   ]
  },
  {
   "cell_type": "code",
   "execution_count": 41,
   "id": "b51d5194",
   "metadata": {},
   "outputs": [],
   "source": [
    "# gdf = gpd.GeoDataFrame(geometry=ACM_copy)\n",
    "# gdf.to_file(\"output.geojson\", driver=\"GeoJSON\")\n",
    "\n",
    "gdf = gpd.GeoDataFrame(geometry=ACM_edited)\n",
    "gdf.to_file(\"output.geojson\", driver=\"GeoJSON\")"
   ]
  },
  {
   "cell_type": "code",
   "execution_count": null,
   "id": "92d56961",
   "metadata": {},
   "outputs": [],
   "source": []
  }
 ],
 "metadata": {
  "kernelspec": {
   "display_name": ".venv",
   "language": "python",
   "name": "python3"
  },
  "language_info": {
   "codemirror_mode": {
    "name": "ipython",
    "version": 3
   },
   "file_extension": ".py",
   "mimetype": "text/x-python",
   "name": "python",
   "nbconvert_exporter": "python",
   "pygments_lexer": "ipython3",
   "version": "3.11.9"
  }
 },
 "nbformat": 4,
 "nbformat_minor": 5
}
